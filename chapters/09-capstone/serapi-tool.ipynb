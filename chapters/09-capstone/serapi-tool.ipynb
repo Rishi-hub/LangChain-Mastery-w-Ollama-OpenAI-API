{
 "cells": [
  {
   "cell_type": "markdown",
   "metadata": {},
   "source": [
    "# SerpAPI Tool Helper"
   ]
  },
  {
   "cell_type": "markdown",
   "metadata": {},
   "source": [
    "This notebook provides a quick rundown of how we construct an async SerpAPI tool. Let's start by query SerpAPI synchronously via their Python SDK:"
   ]
  },
  {
   "cell_type": "code",
   "execution_count": 1,
   "metadata": {},
   "outputs": [
    {
     "name": "stdout",
     "output_type": "stream",
     "text": [
      "{'search_metadata': {'id': '688e7caf0d0b29b7d68996f4', 'status': 'Success', 'json_endpoint': 'https://serpapi.com/searches/ebbfa0286c652347/688e7caf0d0b29b7d68996f4.json', 'pixel_position_endpoint': 'https://serpapi.com/searches/ebbfa0286c652347/688e7caf0d0b29b7d68996f4.json_with_pixel_position', 'created_at': '2025-08-02 21:01:35 UTC', 'processed_at': '2025-08-02 21:01:35 UTC', 'google_url': 'https://www.google.com/search?q=latest+news+in+the+world&oq=latest+news+in+the+world&sourceid=chrome&ie=UTF-8', 'raw_html_file': 'https://serpapi.com/searches/ebbfa0286c652347/688e7caf0d0b29b7d68996f4.html', 'total_time_taken': 7.4}, 'search_parameters': {'engine': 'google', 'q': 'latest news in the world', 'google_domain': 'google.com', 'device': 'desktop'}, 'search_information': {'query_displayed': 'latest news in the world', 'total_results': 1990000000, 'time_taken_displayed': 0.3, 'organic_results_state': 'Results for exact spelling'}, 'related_questions': [{'question': 'What is the trending news in the world now?', 'type': 'featured_snippet', 'snippet': None, 'title': 'World News', 'link': 'https://www.usnews.com/news/world', 'list': [\"Trump Says Brazil's Lula Can Call Him Anytime. ... \", \"Musk's X Must Face Part of Lawsuit Over Child Pornography Video. ... \", 'Rwanda, Congo Agree on Outline for Economic Framework as Part of Peace Deal. ... ', \"US Judge Rejects States' Bid to Block Trump Diversity Research Funding Cuts.\"], 'displayed_link': 'https://www.usnews.com › news › world', 'source_logo': 'https://serpapi.com/searches/688e7caf0d0b29b7d68996f4/images/005abd773d04d1ae77e5386f55bdc4c7f0251d42b0ee598b3e24973730f35da0.png', 'next_page_token': 'eyJvbnMiOiIxMDA0MSIsImZjIjoiRXFFQkNtSkJUR3QwWDNaR1lqaGtTRzlMYTIxM1UyRmpWSEpDYTBsblFrbGZVbkZITW5KYVQwcHJjV05DTFd4cVFVOXVia1pHZEVnNVVuZzFWMm8wV0RSWFdGRjRXR3RRTjE5M1RGUjVlWFpqTUZoNlF6VmhORkprUm1neVoyWmFOeTFrT1dWWVp4SVhkRmg1VDJGTFEzcE9XVFp4TlU1dlVEVmFZbGM0UVdzYUlrRkdUVUZIUjNGSWNWSkNYek4xY0haaFdEVk9VMjV1TlVwc2FXYzVOelI0ZVhjIiwiZmN2IjoiMyIsImVpIjoidFh5T2FLQ3pOWTZxNU5vUDVaYlc4QWsiLCJxYyI6IkNoaHNZWFJsYzNRZ2JtVjNjeUJwYmlCMGFHVWdkMjl5YkdRUUFERUFBQURnU1pYTVAzMjlHRGdfIiwicXVlc3Rpb24iOiJXaGF0IGlzIHRoZSB0cmVuZGluZyBuZXdzIGluIHRoZSB3b3JsZCBub3c/IiwibGsiOiJjNVBTS3M5SUxGSElMRllveVVoVktDbEt6VXZKekV0WHlFc3RMMWJJekFNTGx1Y1g1YVFvNU9XWEF3QSIsImJzIjoiYy1PSzQ5SU96MGdzVWNnc1ZpakpTRlVvS1VyTlM4bk1TMWZJU3kwdlZzak1Bd3VXNXhmbHBDams1WmZiUzl6a010S1IwaW9uV2dlWERaY1UzUHo4QWdWREE0aTZrdnlVeEVwN2lXc21SdEpTa3VXNEZIQ0ZjS2xCZFJlWHBoWXJKQmFsd213QUt5cktUTThvZ1RpczBjaElYVXExbkJqRlhENXdVOEd5T2ZsNTZhbkZKWmdlc0pkNG9XSWtMeVdMVjVFQUl3QSIsImlkIjoiZmNfdFh5T2FLQ3pOWTZxNU5vUDVaYlc4QWtfMyJ9', 'serpapi_link': 'https://serpapi.com/search.json?device=desktop&engine=google_related_questions&google_domain=google.com&next_page_token=eyJvbnMiOiIxMDA0MSIsImZjIjoiRXFFQkNtSkJUR3QwWDNaR1lqaGtTRzlMYTIxM1UyRmpWSEpDYTBsblFrbGZVbkZITW5KYVQwcHJjV05DTFd4cVFVOXVia1pHZEVnNVVuZzFWMm8wV0RSWFdGRjRXR3RRTjE5M1RGUjVlWFpqTUZoNlF6VmhORkprUm1neVoyWmFOeTFrT1dWWVp4SVhkRmg1VDJGTFEzcE9XVFp4TlU1dlVEVmFZbGM0UVdzYUlrRkdUVUZIUjNGSWNWSkNYek4xY0haaFdEVk9VMjV1TlVwc2FXYzVOelI0ZVhjIiwiZmN2IjoiMyIsImVpIjoidFh5T2FLQ3pOWTZxNU5vUDVaYlc4QWsiLCJxYyI6IkNoaHNZWFJsYzNRZ2JtVjNjeUJwYmlCMGFHVWdkMjl5YkdRUUFERUFBQURnU1pYTVAzMjlHRGdfIiwicXVlc3Rpb24iOiJXaGF0IGlzIHRoZSB0cmVuZGluZyBuZXdzIGluIHRoZSB3b3JsZCBub3c%2FIiwibGsiOiJjNVBTS3M5SUxGSElMRllveVVoVktDbEt6VXZKekV0WHlFc3RMMWJJekFNTGx1Y1g1YVFvNU9XWEF3QSIsImJzIjoiYy1PSzQ5SU96MGdzVWNnc1ZpakpTRlVvS1VyTlM4bk1TMWZJU3kwdlZzak1Bd3VXNXhmbHBDams1WmZiUzl6a010S1IwaW9uV2dlWERaY1UzUHo4QWdWREE0aTZrdnlVeEVwN2lXc21SdEpTa3VXNEZIQ0ZjS2xCZFJlWHBoWXJKQmFsd213QUt5cktUTThvZ1RpczBjaElYVXExbkJqRlhENXdVOEd5T2ZsNTZhbkZKWmdlc0pkNG9XSWtMeVdMVjVFQUl3QSIsImlkIjoiZmNfdFh5T2FLQ3pOWTZxNU5vUDVaYlc4QWtfMyJ9'}, {'question': 'What is top 10 news today?', 'type': 'featured_snippet', 'snippet': None, 'title': 'Top News', 'link': 'https://indianexpress.com/', 'list': [\"What Bhagat Singh's 'Why I Am an Atheist' taught me about my own belief.\", \"Social media post sparks communal tension in Pune's Yavat, police fire tear gas.\", \"India rejects UK report alleging 'transnational repression'\", 'Andhra Pradesh. ... ', 'Two decades ago. ... ', 'Health and Wellness.'], 'displayed_link': None, 'source_logo': 'https://serpapi.com/searches/688e7caf0d0b29b7d68996f4/images/005abd773d04d1ae77e5386f55bdc4c77fd7c887db5857cfe02c9c2bbe592f4e.png', 'next_page_token': 'eyJvbnMiOiIxMDA0MSIsImZjIjoiRXFFQkNtSkJUR3QwWDNaR1lqaGtTRzlMYTIxM1UyRmpWSEpDYTBsblFrbGZVbkZITW5KYVQwcHJjV05DTFd4cVFVOXVia1pHZEVnNVVuZzFWMm8wV0RSWFdGRjRXR3RRTjE5M1RGUjVlWFpqTUZoNlF6VmhORkprUm1neVoyWmFOeTFrT1dWWVp4SVhkRmg1VDJGTFEzcE9XVFp4TlU1dlVEVmFZbGM0UVdzYUlrRkdUVUZIUjNGSWNWSkNYek4xY0haaFdEVk9VMjV1TlVwc2FXYzVOelI0ZVhjIiwiZmN2IjoiMyIsImVpIjoidFh5T2FLQ3pOWTZxNU5vUDVaYlc4QWsiLCJxYyI6IkNoaHNZWFJsYzNRZ2JtVjNjeUJwYmlCMGFHVWdkMjl5YkdRUUFERUFBQURnU1pYTVAzMjlHRGdfIiwicXVlc3Rpb24iOiJXaGF0IGlzIHRvcCAxMCBuZXdzIHRvZGF5PyIsImxrIjoiYzVPU0xNOUlMRkhJTEZZb3lTOVFNRFJReUVzdEI3RlRFaXNCIiwiYnMiOiJjLU9LNDlJT3owZ3NVY2dzVmlqSlNGVW9LVXJOUzhuTVMxZklTeTB2VnNqTUF3dVc1eGZscENqazVaZmJTOXprTXRLUjBpb25XZ2VYRFpjVTNQejhBZ1ZEQTRpNmt2eVV4RXA3aVdzbVJ0SlNrdVc0RkhDRmNLbEJkUmVYcGhZckpCYWx3bXdBS3lyS1RNOG9nVGlzMGNoSVhVcTFuQmpGWEQ1d1U4R3lPZmw1NmFuRkpaZ2VzSmQ0b1dJa0x5V0xWNUVBSXdBIiwiaWQiOiJmY190WHlPYUtDek5ZNnE1Tm9QNVpiVzhBa18zIn0=', 'serpapi_link': 'https://serpapi.com/search.json?device=desktop&engine=google_related_questions&google_domain=google.com&next_page_token=eyJvbnMiOiIxMDA0MSIsImZjIjoiRXFFQkNtSkJUR3QwWDNaR1lqaGtTRzlMYTIxM1UyRmpWSEpDYTBsblFrbGZVbkZITW5KYVQwcHJjV05DTFd4cVFVOXVia1pHZEVnNVVuZzFWMm8wV0RSWFdGRjRXR3RRTjE5M1RGUjVlWFpqTUZoNlF6VmhORkprUm1neVoyWmFOeTFrT1dWWVp4SVhkRmg1VDJGTFEzcE9XVFp4TlU1dlVEVmFZbGM0UVdzYUlrRkdUVUZIUjNGSWNWSkNYek4xY0haaFdEVk9VMjV1TlVwc2FXYzVOelI0ZVhjIiwiZmN2IjoiMyIsImVpIjoidFh5T2FLQ3pOWTZxNU5vUDVaYlc4QWsiLCJxYyI6IkNoaHNZWFJsYzNRZ2JtVjNjeUJwYmlCMGFHVWdkMjl5YkdRUUFERUFBQURnU1pYTVAzMjlHRGdfIiwicXVlc3Rpb24iOiJXaGF0IGlzIHRvcCAxMCBuZXdzIHRvZGF5PyIsImxrIjoiYzVPU0xNOUlMRkhJTEZZb3lTOVFNRFJReUVzdEI3RlRFaXNCIiwiYnMiOiJjLU9LNDlJT3owZ3NVY2dzVmlqSlNGVW9LVXJOUzhuTVMxZklTeTB2VnNqTUF3dVc1eGZscENqazVaZmJTOXprTXRLUjBpb25XZ2VYRFpjVTNQejhBZ1ZEQTRpNmt2eVV4RXA3aVdzbVJ0SlNrdVc0RkhDRmNLbEJkUmVYcGhZckpCYWx3bXdBS3lyS1RNOG9nVGlzMGNoSVhVcTFuQmpGWEQ1d1U4R3lPZmw1NmFuRkpaZ2VzSmQ0b1dJa0x5V0xWNUVBSXdBIiwiaWQiOiJmY190WHlPYUtDek5ZNnE1Tm9QNVpiVzhBa18zIn0%3D'}, {'question': 'What issues are in the news right now?', 'type': 'featured_snippet', 'snippet': None, 'title': 'Highlights', 'link': 'https://www.nytimes.com/section/us', 'list': [\"Nashville Is a 'Tough Place to Tunnel. ' Musk Is Digging Anyway. ... \", \"A Trump Ally Pressed for a Mexican Citizen's Release From ICE Custody. ... \", 'County Emergency Official Says He Was Ill and Sleeping as Texas Floods Hit.'], 'displayed_link': 'https://www.nytimes.com › section', 'source_logo': 'https://serpapi.com/searches/688e7caf0d0b29b7d68996f4/images/005abd773d04d1ae77e5386f55bdc4c77440d558622152088c47ad2f18f26f08.png', 'next_page_token': 'eyJvbnMiOiIxMDA0MSIsImZjIjoiRXFFQkNtSkJUR3QwWDNaR1lqaGtTRzlMYTIxM1UyRmpWSEpDYTBsblFrbGZVbkZITW5KYVQwcHJjV05DTFd4cVFVOXVia1pHZEVnNVVuZzFWMm8wV0RSWFdGRjRXR3RRTjE5M1RGUjVlWFpqTUZoNlF6VmhORkprUm1neVoyWmFOeTFrT1dWWVp4SVhkRmg1VDJGTFEzcE9XVFp4TlU1dlVEVmFZbGM0UVdzYUlrRkdUVUZIUjNGSWNWSkNYek4xY0haaFdEVk9VMjV1TlVwc2FXYzVOelI0ZVhjIiwiZmN2IjoiMyIsImVpIjoidFh5T2FLQ3pOWTZxNU5vUDVaYlc4QWsiLCJxYyI6IkNoaHNZWFJsYzNRZ2JtVjNjeUJwYmlCMGFHVWdkMjl5YkdRUUFERUFBQURnU1pYTVAzMjlHRGdfIiwicXVlc3Rpb24iOiJXaGF0IGlzc3VlcyBhcmUgaW4gdGhlIG5ld3MgcmlnaHQgbm93PyIsImxrIjoiR2lWM2FHRjBJR2x6YzNWbGN5QmhjbVVnYVc0Z2RHaGxJRzVsZDNNZ2NtbG5hSFFnYm05MyIsImJzIjoiYy1PSzQ5SU96MGdzVWNnc1ZpakpTRlVvS1VyTlM4bk1TMWZJU3kwdlZzak1Bd3VXNXhmbHBDams1WmZiUzl6a010S1IwaW9uV2dlWERaY1UzUHo4QWdWREE0aTZrdnlVeEVwN2lXc21SdEpTa3VXNEZIQ0ZjS2xCZFJlWHBoWXJKQmFsd213QUt5cktUTThvZ1RpczBjaElYVXExbkJqRlhENXdVOEd5T2ZsNTZhbkZKWmdlc0pkNG9XSWtMeVdMVjVFQUl3QSIsImlkIjoiZmNfdFh5T2FLQ3pOWTZxNU5vUDVaYlc4QWtfMyJ9', 'serpapi_link': 'https://serpapi.com/search.json?device=desktop&engine=google_related_questions&google_domain=google.com&next_page_token=eyJvbnMiOiIxMDA0MSIsImZjIjoiRXFFQkNtSkJUR3QwWDNaR1lqaGtTRzlMYTIxM1UyRmpWSEpDYTBsblFrbGZVbkZITW5KYVQwcHJjV05DTFd4cVFVOXVia1pHZEVnNVVuZzFWMm8wV0RSWFdGRjRXR3RRTjE5M1RGUjVlWFpqTUZoNlF6VmhORkprUm1neVoyWmFOeTFrT1dWWVp4SVhkRmg1VDJGTFEzcE9XVFp4TlU1dlVEVmFZbGM0UVdzYUlrRkdUVUZIUjNGSWNWSkNYek4xY0haaFdEVk9VMjV1TlVwc2FXYzVOelI0ZVhjIiwiZmN2IjoiMyIsImVpIjoidFh5T2FLQ3pOWTZxNU5vUDVaYlc4QWsiLCJxYyI6IkNoaHNZWFJsYzNRZ2JtVjNjeUJwYmlCMGFHVWdkMjl5YkdRUUFERUFBQURnU1pYTVAzMjlHRGdfIiwicXVlc3Rpb24iOiJXaGF0IGlzc3VlcyBhcmUgaW4gdGhlIG5ld3MgcmlnaHQgbm93PyIsImxrIjoiR2lWM2FHRjBJR2x6YzNWbGN5QmhjbVVnYVc0Z2RHaGxJRzVsZDNNZ2NtbG5hSFFnYm05MyIsImJzIjoiYy1PSzQ5SU96MGdzVWNnc1ZpakpTRlVvS1VyTlM4bk1TMWZJU3kwdlZzak1Bd3VXNXhmbHBDams1WmZiUzl6a010S1IwaW9uV2dlWERaY1UzUHo4QWdWREE0aTZrdnlVeEVwN2lXc21SdEpTa3VXNEZIQ0ZjS2xCZFJlWHBoWXJKQmFsd213QUt5cktUTThvZ1RpczBjaElYVXExbkJqRlhENXdVOEd5T2ZsNTZhbkZKWmdlc0pkNG9XSWtMeVdMVjVFQUl3QSIsImlkIjoiZmNfdFh5T2FLQ3pOWTZxNU5vUDVaYlc4QWtfMyJ9'}, {'question': 'What is the longest news in the world?', 'type': 'featured_snippet', 'snippet': \"When Reuters closed its liveblog of the triple disaster in Japan after 14 days of live reporting, the resulting story was 298 pages long — the world's longest news story.\", 'title': \"The world's longest news story - Pingback Blog US\", 'link': \"https://pingback.com/en/resources/the-worlds-longest-news-story/#:~:text=When%20Reuters%20closed%20its%20liveblog,the%20world's%20longest%20news%20story.\", 'displayed_link': 'https://pingback.com › resources › the-worlds-longest-ne...', 'source_logo': 'https://serpapi.com/searches/688e7caf0d0b29b7d68996f4/images/005abd773d04d1ae77e5386f55bdc4c76354efebe6d8af11edd0a1b2caa14874.png', 'next_page_token': 'eyJvbnMiOiIxMDA0MSIsImZjIjoiRXFFQkNtSkJUR3QwWDNaR1lqaGtTRzlMYTIxM1UyRmpWSEpDYTBsblFrbGZVbkZITW5KYVQwcHJjV05DTFd4cVFVOXVia1pHZEVnNVVuZzFWMm8wV0RSWFdGRjRXR3RRTjE5M1RGUjVlWFpqTUZoNlF6VmhORkprUm1neVoyWmFOeTFrT1dWWVp4SVhkRmg1VDJGTFEzcE9XVFp4TlU1dlVEVmFZbGM0UVdzYUlrRkdUVUZIUjNGSWNWSkNYek4xY0haaFdEVk9VMjV1TlVwc2FXYzVOelI0ZVhjIiwiZmN2IjoiMyIsImVpIjoidFh5T2FLQ3pOWTZxNU5vUDVaYlc4QWsiLCJxYyI6IkNoaHNZWFJsYzNRZ2JtVjNjeUJwYmlCMGFHVWdkMjl5YkdRUUFERUFBQURnU1pYTVAzMjlHRGdfIiwicXVlc3Rpb24iOiJXaGF0IGlzIHRoZSBsb25nZXN0IG5ld3MgaW4gdGhlIHdvcmxkPyIsImxrIjoiR2gxMGFHVWdiRzl1WjJWemRDQnVaWGR6SUdsdUlIUm9aU0IzYjNKc1pBIiwiYnMiOiJjLU9LNDlJT3owZ3NVY2dzVmlqSlNGVW9LVXJOUzhuTVMxZklTeTB2VnNqTUF3dVc1eGZscENqazVaZmJTOXprTXRLUjBpb25XZ2VYRFpjVTNQejhBZ1ZEQTRpNmt2eVV4RXA3aVdzbVJ0SlNrdVc0RkhDRmNLbEJkUmVYcGhZckpCYWx3bXdBS3lyS1RNOG9nVGlzMGNoSVhVcTFuQmpGWEQ1d1U4R3lPZmw1NmFuRkpaZ2VzSmQ0b1dJa0x5V0xWNUVBSXdBIiwiaWQiOiJmY190WHlPYUtDek5ZNnE1Tm9QNVpiVzhBa18zIn0=', 'serpapi_link': 'https://serpapi.com/search.json?device=desktop&engine=google_related_questions&google_domain=google.com&next_page_token=eyJvbnMiOiIxMDA0MSIsImZjIjoiRXFFQkNtSkJUR3QwWDNaR1lqaGtTRzlMYTIxM1UyRmpWSEpDYTBsblFrbGZVbkZITW5KYVQwcHJjV05DTFd4cVFVOXVia1pHZEVnNVVuZzFWMm8wV0RSWFdGRjRXR3RRTjE5M1RGUjVlWFpqTUZoNlF6VmhORkprUm1neVoyWmFOeTFrT1dWWVp4SVhkRmg1VDJGTFEzcE9XVFp4TlU1dlVEVmFZbGM0UVdzYUlrRkdUVUZIUjNGSWNWSkNYek4xY0haaFdEVk9VMjV1TlVwc2FXYzVOelI0ZVhjIiwiZmN2IjoiMyIsImVpIjoidFh5T2FLQ3pOWTZxNU5vUDVaYlc4QWsiLCJxYyI6IkNoaHNZWFJsYzNRZ2JtVjNjeUJwYmlCMGFHVWdkMjl5YkdRUUFERUFBQURnU1pYTVAzMjlHRGdfIiwicXVlc3Rpb24iOiJXaGF0IGlzIHRoZSBsb25nZXN0IG5ld3MgaW4gdGhlIHdvcmxkPyIsImxrIjoiR2gxMGFHVWdiRzl1WjJWemRDQnVaWGR6SUdsdUlIUm9aU0IzYjNKc1pBIiwiYnMiOiJjLU9LNDlJT3owZ3NVY2dzVmlqSlNGVW9LVXJOUzhuTVMxZklTeTB2VnNqTUF3dVc1eGZscENqazVaZmJTOXprTXRLUjBpb25XZ2VYRFpjVTNQejhBZ1ZEQTRpNmt2eVV4RXA3aVdzbVJ0SlNrdVc0RkhDRmNLbEJkUmVYcGhZckpCYWx3bXdBS3lyS1RNOG9nVGlzMGNoSVhVcTFuQmpGWEQ1d1U4R3lPZmw1NmFuRkpaZ2VzSmQ0b1dJa0x5V0xWNUVBSXdBIiwiaWQiOiJmY190WHlPYUtDek5ZNnE1Tm9QNVpiVzhBa18zIn0%3D'}], 'ai_overview': {'page_token': 'Nc51NnicxZTbkqJIEIZv90XWm-4VQdpDRxATRYGKilrajuKNoRxKBUQpulHnat9ln2qfZquKwfbQHdMbe7GlAdYp88_Mz_zzr2C99f_-7ccqSXbkWRDSNC3iKMKBW7SjUFiQ49YWvCggsb36dnxTygWbKKWCu1aS6bG_6MBTz6rsn3rR4Gm2nNSAX-BXlPlyQdwNtXjYEGEu0If_e1mjkyIputviqYMTJ9Hk71tQlEpirdgXFiE9AP7jwLcLKv-CBn0Yl-sI6B9b0CGzYlxtn39rzBYEBurQd6TeuYLZjw4Cg_V8cMD3Ngzm-kKJAbrAgMDCAI0yqR9Fk9lF-fb4RjO6CoALxeAm4FvD5sVtesVLz3N2F2W-5Sh8j8EALjikprzrfGhTjyC0wB9-S72vQuZUHaq6RHo0SsHBtNglYRnTlyjEhJUevtRLUaOlVTzxrd9Wy560ESWxKwW-OTaMeoQeOVQ2OVNFLqlqvAbjw7g1qx7HxW5RFc9IQRYfNniWtCybOoAIrD9NDx_D91yBq1LwKqj8A8KxleXGmKoA-nmZPQC1KfgO-Bzm6cv2EC2LinneqQEkqYgJM5BB13CDKcVA5TlcsytMJdYRhEw6JSC9kMMsyS1ZY3NsNDPvJb6eIYVgDoF-QUmUxQEgBq4KdTCjWxOws8wN_Hkac80G_OkEjKj9FvOpMnixBvQatVfj4TBHLJ3sZP4vQ9QqTZSdCx1inQsnN0hxUSn41bjl_X1QlO4Zalk7DW_6slmfuJX9fJxMTEJ8p-3XlzlDUbj8F63J_n8oY4Q1KArGJWXoM8quG1dGmZ5TVmaU8cZFXUQ3lKk5ZcPOSKONyzvgC8r0M2WIXjpTdtm4IGhnsnPK2MWvUMapySnTz5S1P6WMN64ryrzDmbIXThm-o-yLjWv6pcbFYXOz13UXe93gWxKbqN1PnJOtYrk06L70n8webixrVlxR08e5FybPuzjCj_O186xK7eToFPZKsEhckjxs3ZQ8rLcPycp9SKM4cAphEEdKaVHxjYEzbmzl6lQ_plavbnQ20mm2wrBr7beD2fA1Ic0KCANUXfYPTq-0qzXM2Is0yVl0V-S03-56ZN8UvflhE0k2aQej8qHc99d4psnHmYajE9K8PlKfJmXbH1hH0h-OqhO_Ow3DXlCddsPZkOy4GqKY0_jUDExx8moVwoVDXEUshLGt0JrKPughgArEXsxd8qY41apn21LFtmtPjlih53By3Cmy-A9A4HxX', 'serpapi_link': 'https://serpapi.com/search.json?engine=google_ai_overview&page_token=Nc51NnicxZTbkqJIEIZv90XWm-4VQdpDRxATRYGKilrajuKNoRxKBUQpulHnat9ln2qfZquKwfbQHdMbe7GlAdYp88_Mz_zzr2C99f_-7ccqSXbkWRDSNC3iKMKBW7SjUFiQ49YWvCggsb36dnxTygWbKKWCu1aS6bG_6MBTz6rsn3rR4Gm2nNSAX-BXlPlyQdwNtXjYEGEu0If_e1mjkyIputviqYMTJ9Hk71tQlEpirdgXFiE9AP7jwLcLKv-CBn0Yl-sI6B9b0CGzYlxtn39rzBYEBurQd6TeuYLZjw4Cg_V8cMD3Ngzm-kKJAbrAgMDCAI0yqR9Fk9lF-fb4RjO6CoALxeAm4FvD5sVtesVLz3N2F2W-5Sh8j8EALjikprzrfGhTjyC0wB9-S72vQuZUHaq6RHo0SsHBtNglYRnTlyjEhJUevtRLUaOlVTzxrd9Wy560ESWxKwW-OTaMeoQeOVQ2OVNFLqlqvAbjw7g1qx7HxW5RFc9IQRYfNniWtCybOoAIrD9NDx_D91yBq1LwKqj8A8KxleXGmKoA-nmZPQC1KfgO-Bzm6cv2EC2LinneqQEkqYgJM5BB13CDKcVA5TlcsytMJdYRhEw6JSC9kMMsyS1ZY3NsNDPvJb6eIYVgDoF-QUmUxQEgBq4KdTCjWxOws8wN_Hkac80G_OkEjKj9FvOpMnixBvQatVfj4TBHLJ3sZP4vQ9QqTZSdCx1inQsnN0hxUSn41bjl_X1QlO4Zalk7DW_6slmfuJX9fJxMTEJ8p-3XlzlDUbj8F63J_n8oY4Q1KArGJWXoM8quG1dGmZ5TVmaU8cZFXUQ3lKk5ZcPOSKONyzvgC8r0M2WIXjpTdtm4IGhnsnPK2MWvUMapySnTz5S1P6WMN64ryrzDmbIXThm-o-yLjWv6pcbFYXOz13UXe93gWxKbqN1PnJOtYrk06L70n8webixrVlxR08e5FybPuzjCj_O186xK7eToFPZKsEhckjxs3ZQ8rLcPycp9SKM4cAphEEdKaVHxjYEzbmzl6lQ_plavbnQ20mm2wrBr7beD2fA1Ic0KCANUXfYPTq-0qzXM2Is0yVl0V-S03-56ZN8UvflhE0k2aQej8qHc99d4psnHmYajE9K8PlKfJmXbH1hH0h-OqhO_Ow3DXlCddsPZkOy4GqKY0_jUDExx8moVwoVDXEUshLGt0JrKPughgArEXsxd8qY41apn21LFtmtPjlih53By3Cmy-A9A4HxX'}, 'organic_results': [{'position': 1, 'title': 'World | Latest News & Updates', 'link': 'https://www.bbc.com/news/world', 'redirect_link': 'https://www.google.com/url?sa=t&source=web&rct=j&opi=89978449&url=https://www.bbc.com/news/world&ved=2ahUKEwjg4bjzgu2OAxUOFVkFHWWLFZ4QFnoECCIQAQ', 'displayed_link': 'https://www.bbc.com › news › world', 'favicon': 'https://serpapi.com/searches/688e7caf0d0b29b7d68996f4/images/a1e5f2d48cb5e598291b88bdfff01798cff16e6d023b0c62d12765cd24da488e.png', 'snippet': 'World · Hamas refuses to disarm until Palestinian state established · Family condemns Hamas video showing emaciated Israeli hostage · Police find getaway car of ...', 'snippet_highlighted_words': ['Hamas refuses to disarm until Palestinian state established'], 'sitelinks': {'inline': [{'title': 'BBC World', 'link': 'https://www.bbc.com/news/world_radio_and_tv'}, {'title': 'Middle East', 'link': 'https://www.bbc.com/news/world/middle_east'}, {'title': 'Africa', 'link': 'https://www.bbc.com/news/world/africa'}, {'title': 'Europe', 'link': 'https://www.bbc.com/news/world/europe'}]}, 'source': 'BBC'}, {'position': 2, 'title': 'World news - breaking news, video, headlines and opinion', 'link': 'https://www.cnn.com/world', 'redirect_link': 'https://www.google.com/url?sa=t&source=web&rct=j&opi=89978449&url=https://www.cnn.com/world&ved=2ahUKEwjg4bjzgu2OAxUOFVkFHWWLFZ4QFnoECCEQAQ', 'displayed_link': 'https://www.cnn.com › world', 'favicon': 'https://serpapi.com/searches/688e7caf0d0b29b7d68996f4/images/a1e5f2d48cb5e598291b88bdfff0179824154abd8473996c73264a5fae32e530.png', 'snippet': 'View CNN world news today for international news and videos from Europe, Asia, Africa, the Middle East and the Americas.', 'snippet_highlighted_words': ['world news', 'news'], 'source': 'CNN'}, {'position': 3, 'title': 'World news', 'link': 'https://www.cbsnews.com/world/', 'redirect_link': 'https://www.google.com/url?sa=t&source=web&rct=j&opi=89978449&url=https://www.cbsnews.com/world/&ved=2ahUKEwjg4bjzgu2OAxUOFVkFHWWLFZ4QFnoECB8QAQ', 'displayed_link': 'https://www.cbsnews.com › World', 'favicon': 'https://serpapi.com/searches/688e7caf0d0b29b7d68996f4/images/a1e5f2d48cb5e598291b88bdfff01798ac84368b0b93492f9b036da37cd34117.png', 'snippet': 'World · Pope thrills hundreds of thousands of young Catholics at youth festival · Team USA sets new relay record at swim worlds and Ledecky wins again · U.S. ...', 'snippet_highlighted_words': ['Pope thrills hundreds of thousands of young Catholics at youth festival'], 'source': 'CBS News'}, {'position': 4, 'title': 'Breaking News, World News and Video from Al Jazeera', 'link': 'https://www.aljazeera.com/', 'redirect_link': 'https://www.google.com/url?sa=t&source=web&rct=j&opi=89978449&url=https://www.aljazeera.com/&ved=2ahUKEwjg4bjzgu2OAxUOFVkFHWWLFZ4QFnoECFUQAQ', 'displayed_link': 'https://www.aljazeera.com', 'favicon': 'https://serpapi.com/searches/688e7caf0d0b29b7d68996f4/images/a1e5f2d48cb5e598291b88bdfff01798eca50e721d755ae60db04720906526cb.png', 'date': '4 hours ago', 'snippet': 'Al Jazeera · Siraj strikes after Jaiswal helps India set England daunting target · Ukraine drone attacks kill three in Russia, cause fire at oil ...', 'snippet_highlighted_words': ['Siraj strikes after Jaiswal helps India set England daunting target'], 'sitelinks': {'inline': [{'title': 'News', 'link': 'https://www.aljazeera.com/news/'}, {'title': 'US & Canada News', 'link': 'https://www.aljazeera.com/us-canada/'}, {'title': 'Live', 'link': 'https://www.aljazeera.com/live'}, {'title': 'Africa News', 'link': 'https://www.aljazeera.com/africa/'}]}, 'source': 'Al Jazeera'}, {'position': 5, 'title': 'World News', 'link': 'https://timesofindia.indiatimes.com/world', 'redirect_link': 'https://www.google.com/url?sa=t&source=web&rct=j&opi=89978449&url=https://timesofindia.indiatimes.com/world&ved=2ahUKEwjg4bjzgu2OAxUOFVkFHWWLFZ4QFnoECCMQAQ', 'displayed_link': 'https://timesofindia.indiatimes.com › world', 'favicon': 'https://serpapi.com/searches/688e7caf0d0b29b7d68996f4/images/a1e5f2d48cb5e598291b88bdfff01798de4d44098c05bb33b094d324f3d4563e.png', 'snippet': \"Ukraine's Kamikaze Drone GOES BONKERS In Putin's Backyard | Watch WILD Video Of UAV Crash In Russia. 03:19. Hamas Snaps At Israel For Starving Gazans, ...\", 'snippet_highlighted_words': [\"Ukraine's Kamikaze Drone GOES BONKERS In Putin's Backyard\"], 'sitelinks': {'inline': [{'title': 'Rest of World News', 'link': 'https://timesofindia.indiatimes.com/world/rest-of-world'}, {'title': 'Pakistan News', 'link': 'https://timesofindia.indiatimes.com/world/pakistan'}, {'title': 'US', 'link': 'https://timesofindia.indiatimes.com/world/us'}, {'title': 'China News', 'link': 'https://timesofindia.indiatimes.com/world/china'}]}, 'source': 'The Times of India'}, {'position': 6, 'title': 'Latest news from around the world', 'link': 'https://www.theguardian.com/world', 'redirect_link': 'https://www.google.com/url?sa=t&source=web&rct=j&opi=89978449&url=https://www.theguardian.com/world&ved=2ahUKEwjg4bjzgu2OAxUOFVkFHWWLFZ4QFnoECCQQAQ', 'displayed_link': 'https://www.theguardian.com › world', 'favicon': 'https://serpapi.com/searches/688e7caf0d0b29b7d68996f4/images/a1e5f2d48cb5e598291b88bdfff017982ec7e93b5df255ee4f8469eace0e1e4d.png', 'snippet': 'Asia Pacific · Weather tracker: deadly floods devastate northern China · Panama files lawsuits against owner of ports at centre of US-China struggle · Hong Kong ...', 'snippet_highlighted_words': ['Asia Pacific'], 'sitelinks': {'inline': [{'title': 'Europe', 'link': 'https://www.theguardian.com/world/europe-news'}, {'title': 'Americas', 'link': 'https://www.theguardian.com/world/americas'}, {'title': 'Asia', 'link': 'https://www.theguardian.com/world/asia'}, {'title': 'US', 'link': 'https://www.theguardian.com/us-news'}]}, 'source': 'The Guardian'}, {'position': 7, 'title': 'World News | Latest Top Stories', 'link': 'https://www.reuters.com/world/', 'redirect_link': 'https://www.google.com/url?sa=t&source=web&rct=j&opi=89978449&url=https://www.reuters.com/world/&ved=2ahUKEwjg4bjzgu2OAxUOFVkFHWWLFZ4QFnoECCYQAQ', 'displayed_link': 'https://www.reuters.com › world', 'favicon': 'https://serpapi.com/searches/688e7caf0d0b29b7d68996f4/images/a1e5f2d48cb5e598291b88bdfff0179837cd0be858cc2356d001ec913a18fba2.png', 'snippet': 'Reuters.com is your online source for the latest world news stories and current events, ensuring our readers up to date with any breaking news developments.', 'snippet_highlighted_words': ['Reuters.com is your online source for the latest world news stories'], 'source': 'Reuters'}, {'position': 8, 'title': 'Google News', 'link': 'https://news.google.com/', 'redirect_link': 'https://www.google.com/url?sa=t&source=web&rct=j&opi=89978449&url=https://news.google.com/&ved=2ahUKEwjg4bjzgu2OAxUOFVkFHWWLFZ4QFnoECCAQAQ', 'displayed_link': 'https://news.google.com', 'favicon': 'https://serpapi.com/searches/688e7caf0d0b29b7d68996f4/images/a1e5f2d48cb5e598291b88bdfff01798b5d03732aab24a2b17cbe61268f38999.png', 'snippet': \"Top stories · Republicans slam Trump's firing of Bureau of Labor Statistics chief · Anaconda, Montana shooting: Police find getaway car of army veteran suspected ...\", 'snippet_highlighted_words': [\"Republicans slam Trump's firing of Bureau of Labor Statistics chief\"], 'source': 'Google News'}, {'position': 9, 'title': 'CNN: Breaking News, Latest News and Videos', 'link': 'https://www.cnn.com/', 'redirect_link': 'https://www.google.com/url?sa=t&source=web&rct=j&opi=89978449&url=https://www.cnn.com/&ved=2ahUKEwjg4bjzgu2OAxUOFVkFHWWLFZ4QFnoECCUQAQ', 'displayed_link': 'https://www.cnn.com', 'favicon': 'https://serpapi.com/searches/688e7caf0d0b29b7d68996f4/images/a1e5f2d48cb5e598291b88bdfff017980989f47bd01163143a832a9639516078.png', 'snippet': 'View the latest news and breaking news today for U.S., world, weather, entertainment, politics and health at CNN.com.', 'snippet_highlighted_words': ['breaking news today for U.S'], 'sitelinks': {'inline': [{'title': 'World', 'link': 'https://www.cnn.com/world'}, {'title': 'US', 'link': 'https://www.cnn.com/us'}, {'title': 'CNN', 'link': 'https://edition.cnn.com/'}, {'title': 'Politics', 'link': 'https://www.cnn.com/politics'}]}, 'source': 'CNN'}], 'top_stories': [{'title': '\"No piecemeal deals\": Witkoff tells hostage families Trump wants full Gaza agreement', 'link': 'https://www.axios.com/2025/08/02/witkoff-hostage-families-trump-deal-gaza-war', 'source': 'Axios', 'source_logo': 'https://serpapi.com/searches/688e7caf0d0b29b7d68996f4/images/a5bb2cfc859c037ab5d473b598f1b255c3e96cf6d7728e1c4d2f818c2c4ab388.png', 'date': '4 hours ago', 'thumbnail': 'https://serpapi.com/searches/688e7caf0d0b29b7d68996f4/images/a5bb2cfc859c037a20b746e879cdec3c3a50ed0919c32a01.jpeg'}, {'title': 'Pope thrills hundreds of thousands of young Catholics at Holy Year youth festival', 'link': 'https://apnews.com/article/vatican-youth-leo-pope-pilgrims-4d1f8c3c6743e9ad1e9eab6699f7d95e', 'source': 'AP News', 'source_logo': 'https://serpapi.com/searches/688e7caf0d0b29b7d68996f4/images/a5bb2cfc859c037adaebeb36cc69e0a920d0aa11f9edb708947ffc8089bfeab0.png', 'date': '1 hour ago', 'thumbnail': 'https://serpapi.com/searches/688e7caf0d0b29b7d68996f4/images/a5bb2cfc859c037a5c8da28cce28926d4caf76d5b1e830a1.jpeg'}, {'title': 'Hamas releases chilling video of ‘living skeleton’ hostage Evyatar David: ‘Few days left to live’', 'link': 'https://nypost.com/2025/08/02/world-news/hamas-releases-chilling-video-of-living-skeleton-hostage-evyatar-david/', 'source': 'New York Post', 'source_logo': 'https://serpapi.com/searches/688e7caf0d0b29b7d68996f4/images/a5bb2cfc859c037a4ecb0f637888b51a1070b18e08ca89007c1c350c01ac0dda.png', 'date': '52 minutes ago', 'thumbnail': 'https://serpapi.com/searches/688e7caf0d0b29b7d68996f4/images/a5bb2cfc859c037adaf18430a0e0e4fbab62a31806dfa9fb.jpeg'}, {'title': 'India to maintain Russian oil imports despite Trump threats, government sources say', 'link': 'https://www.reuters.com/business/energy/india-maintain-russian-oil-imports-despite-trump-threats-government-sources-say-2025-08-02/', 'source': 'Reuters', 'source_logo': 'https://serpapi.com/searches/688e7caf0d0b29b7d68996f4/images/a5bb2cfc859c037a66225cf6e400062e18670a7bd703083d7b91fd4fa7a6e0ee.png', 'date': '4 hours ago', 'thumbnail': 'https://serpapi.com/searches/688e7caf0d0b29b7d68996f4/images/a5bb2cfc859c037a6f4aa50e813061aa271e7f7e719c77a9.jpeg'}, {'title': 'With Palestine recognition, allies try to get Netanyahu to listen, but risk boosting Hamas', 'link': 'https://www.timesofisrael.com/with-palestine-recognition-threats-frustrated-allies-try-to-get-netanyahu-to-listen/', 'source': 'The Times of Israel', 'source_logo': 'https://serpapi.com/searches/688e7caf0d0b29b7d68996f4/images/a5bb2cfc859c037a21db517273ba2596a47c505118f9a63e8978a6383d61388e.png', 'date': '12 hours ago', 'thumbnail': 'https://serpapi.com/searches/688e7caf0d0b29b7d68996f4/images/a5bb2cfc859c037aaab91d314be7b99a46620702a3ba6227.jpeg'}, {'title': 'The US said it had no choice but to deport them to a third country. Then it sent them home', 'link': 'https://www.reuters.com/world/americas/us-said-it-had-no-choice-deport-them-third-country-then-it-sent-them-home-2025-08-02/', 'source': 'Reuters', 'source_logo': 'https://serpapi.com/searches/688e7caf0d0b29b7d68996f4/images/a5bb2cfc859c037a2af09a1816b3d09aceaebe8c013af26c7200c22cf91630e4.png', 'date': '4 hours ago', 'thumbnail': 'https://serpapi.com/searches/688e7caf0d0b29b7d68996f4/images/a5bb2cfc859c037acc92baff92f2c48b8e35b6dc9968c0f4.jpeg'}], 'related_searches': [{'block_position': 1, 'query': 'Breaking news today', 'link': 'https://www.google.com/search?sca_esv=d77fcc26cc85d161&q=Breaking+news+today&sa=X&ved=2ahUKEwjg4bjzgu2OAxUOFVkFHWWLFZ4Q1QJ6BAhSEAE', 'serpapi_link': 'https://serpapi.com/search.json?device=desktop&engine=google&google_domain=google.com&q=Breaking+news+today'}, {'block_position': 1, 'query': 'Latest news in the world cnn', 'link': 'https://www.google.com/search?sca_esv=d77fcc26cc85d161&q=Latest+news+in+the+world+cnn&sa=X&ved=2ahUKEwjg4bjzgu2OAxUOFVkFHWWLFZ4Q1QJ6BAhTEAE', 'serpapi_link': 'https://serpapi.com/search.json?device=desktop&engine=google&google_domain=google.com&q=Latest+news+in+the+world+cnn'}, {'block_position': 1, 'query': 'Latest news in the world live', 'link': 'https://www.google.com/search?sca_esv=d77fcc26cc85d161&q=Latest+news+in+the+world+live&sa=X&ved=2ahUKEwjg4bjzgu2OAxUOFVkFHWWLFZ4Q1QJ6BAhOEAE', 'serpapi_link': 'https://serpapi.com/search.json?device=desktop&engine=google&google_domain=google.com&q=Latest+news+in+the+world+live'}, {'block_position': 1, 'query': 'World news today headlines', 'link': 'https://www.google.com/search?sca_esv=d77fcc26cc85d161&q=World+news+today+headlines&sa=X&ved=2ahUKEwjg4bjzgu2OAxUOFVkFHWWLFZ4Q1QJ6BAhNEAE', 'serpapi_link': 'https://serpapi.com/search.json?device=desktop&engine=google&google_domain=google.com&q=World+news+today+headlines'}, {'block_position': 1, 'query': 'Breaking news Headlines today', 'link': 'https://www.google.com/search?sca_esv=d77fcc26cc85d161&q=Breaking+news+Headlines+today&sa=X&ved=2ahUKEwjg4bjzgu2OAxUOFVkFHWWLFZ4Q1QJ6BAhQEAE', 'serpapi_link': 'https://serpapi.com/search.json?device=desktop&engine=google&google_domain=google.com&q=Breaking+news+Headlines+today'}, {'block_position': 1, 'query': 'Bbc world news', 'link': 'https://www.google.com/search?sca_esv=d77fcc26cc85d161&q=Bbc+world+news&sa=X&ved=2ahUKEwjg4bjzgu2OAxUOFVkFHWWLFZ4Q1QJ6BAhREAE', 'serpapi_link': 'https://serpapi.com/search.json?device=desktop&engine=google&google_domain=google.com&q=Bbc+world+news'}, {'block_position': 1, 'query': 'World news al Jazeera', 'link': 'https://www.google.com/search?sca_esv=d77fcc26cc85d161&q=World+news+al+Jazeera&sa=X&ved=2ahUKEwjg4bjzgu2OAxUOFVkFHWWLFZ4Q1QJ6BAhPEAE', 'serpapi_link': 'https://serpapi.com/search.json?device=desktop&engine=google&google_domain=google.com&q=World+news+al+Jazeera'}, {'block_position': 1, 'query': 'Bbc news', 'link': 'https://www.google.com/search?sca_esv=d77fcc26cc85d161&q=Bbc+news&sa=X&ved=2ahUKEwjg4bjzgu2OAxUOFVkFHWWLFZ4Q1QJ6BAhMEAE', 'serpapi_link': 'https://serpapi.com/search.json?device=desktop&engine=google&google_domain=google.com&q=Bbc+news'}], 'pagination': {'current': 1, 'next': 'https://www.google.com/search?q=latest+news+in+the+world&sca_esv=d77fcc26cc85d161&ei=tXyOaKCzNY6q5NoP5ZbW8Ak&start=10&sa=N&sstk=Ac65TH7Uz6fgNnOOQupzrEfRVA8an6Fn8Kva2kVg8C7XNSKHjR22k0-1YImnBm6j76ef6BKXBsDdNbbzK6JpUk9SC-eZLIBNmLxj7w&ved=2ahUKEwjg4bjzgu2OAxUOFVkFHWWLFZ4Q8NMDegQIDhAW', 'other_pages': {'2': 'https://www.google.com/search?q=latest+news+in+the+world&sca_esv=d77fcc26cc85d161&ei=tXyOaKCzNY6q5NoP5ZbW8Ak&start=10&sa=N&sstk=Ac65TH7Uz6fgNnOOQupzrEfRVA8an6Fn8Kva2kVg8C7XNSKHjR22k0-1YImnBm6j76ef6BKXBsDdNbbzK6JpUk9SC-eZLIBNmLxj7w&ved=2ahUKEwjg4bjzgu2OAxUOFVkFHWWLFZ4Q8tMDegQIDhAE', '3': 'https://www.google.com/search?q=latest+news+in+the+world&sca_esv=d77fcc26cc85d161&ei=tXyOaKCzNY6q5NoP5ZbW8Ak&start=20&sa=N&sstk=Ac65TH7Uz6fgNnOOQupzrEfRVA8an6Fn8Kva2kVg8C7XNSKHjR22k0-1YImnBm6j76ef6BKXBsDdNbbzK6JpUk9SC-eZLIBNmLxj7w&ved=2ahUKEwjg4bjzgu2OAxUOFVkFHWWLFZ4Q8tMDegQIDhAG', '4': 'https://www.google.com/search?q=latest+news+in+the+world&sca_esv=d77fcc26cc85d161&ei=tXyOaKCzNY6q5NoP5ZbW8Ak&start=30&sa=N&sstk=Ac65TH7Uz6fgNnOOQupzrEfRVA8an6Fn8Kva2kVg8C7XNSKHjR22k0-1YImnBm6j76ef6BKXBsDdNbbzK6JpUk9SC-eZLIBNmLxj7w&ved=2ahUKEwjg4bjzgu2OAxUOFVkFHWWLFZ4Q8tMDegQIDhAI', '5': 'https://www.google.com/search?q=latest+news+in+the+world&sca_esv=d77fcc26cc85d161&ei=tXyOaKCzNY6q5NoP5ZbW8Ak&start=40&sa=N&sstk=Ac65TH7Uz6fgNnOOQupzrEfRVA8an6Fn8Kva2kVg8C7XNSKHjR22k0-1YImnBm6j76ef6BKXBsDdNbbzK6JpUk9SC-eZLIBNmLxj7w&ved=2ahUKEwjg4bjzgu2OAxUOFVkFHWWLFZ4Q8tMDegQIDhAK', '6': 'https://www.google.com/search?q=latest+news+in+the+world&sca_esv=d77fcc26cc85d161&ei=tXyOaKCzNY6q5NoP5ZbW8Ak&start=50&sa=N&sstk=Ac65TH7Uz6fgNnOOQupzrEfRVA8an6Fn8Kva2kVg8C7XNSKHjR22k0-1YImnBm6j76ef6BKXBsDdNbbzK6JpUk9SC-eZLIBNmLxj7w&ved=2ahUKEwjg4bjzgu2OAxUOFVkFHWWLFZ4Q8tMDegQIDhAM', '7': 'https://www.google.com/search?q=latest+news+in+the+world&sca_esv=d77fcc26cc85d161&ei=tXyOaKCzNY6q5NoP5ZbW8Ak&start=60&sa=N&sstk=Ac65TH7Uz6fgNnOOQupzrEfRVA8an6Fn8Kva2kVg8C7XNSKHjR22k0-1YImnBm6j76ef6BKXBsDdNbbzK6JpUk9SC-eZLIBNmLxj7w&ved=2ahUKEwjg4bjzgu2OAxUOFVkFHWWLFZ4Q8tMDegQIDhAO', '8': 'https://www.google.com/search?q=latest+news+in+the+world&sca_esv=d77fcc26cc85d161&ei=tXyOaKCzNY6q5NoP5ZbW8Ak&start=70&sa=N&sstk=Ac65TH7Uz6fgNnOOQupzrEfRVA8an6Fn8Kva2kVg8C7XNSKHjR22k0-1YImnBm6j76ef6BKXBsDdNbbzK6JpUk9SC-eZLIBNmLxj7w&ved=2ahUKEwjg4bjzgu2OAxUOFVkFHWWLFZ4Q8tMDegQIDhAQ', '9': 'https://www.google.com/search?q=latest+news+in+the+world&sca_esv=d77fcc26cc85d161&ei=tXyOaKCzNY6q5NoP5ZbW8Ak&start=80&sa=N&sstk=Ac65TH7Uz6fgNnOOQupzrEfRVA8an6Fn8Kva2kVg8C7XNSKHjR22k0-1YImnBm6j76ef6BKXBsDdNbbzK6JpUk9SC-eZLIBNmLxj7w&ved=2ahUKEwjg4bjzgu2OAxUOFVkFHWWLFZ4Q8tMDegQIDhAS', '10': 'https://www.google.com/search?q=latest+news+in+the+world&sca_esv=d77fcc26cc85d161&ei=tXyOaKCzNY6q5NoP5ZbW8Ak&start=90&sa=N&sstk=Ac65TH7Uz6fgNnOOQupzrEfRVA8an6Fn8Kva2kVg8C7XNSKHjR22k0-1YImnBm6j76ef6BKXBsDdNbbzK6JpUk9SC-eZLIBNmLxj7w&ved=2ahUKEwjg4bjzgu2OAxUOFVkFHWWLFZ4Q8tMDegQIDhAU'}}, 'serpapi_pagination': {'current': 1, 'next_link': 'https://serpapi.com/search.json?device=desktop&engine=google&google_domain=google.com&q=latest+news+in+the+world&start=10', 'next': 'https://serpapi.com/search.json?device=desktop&engine=google&google_domain=google.com&q=latest+news+in+the+world&start=10', 'other_pages': {'2': 'https://serpapi.com/search.json?device=desktop&engine=google&google_domain=google.com&q=latest+news+in+the+world&start=10', '3': 'https://serpapi.com/search.json?device=desktop&engine=google&google_domain=google.com&q=latest+news+in+the+world&start=20', '4': 'https://serpapi.com/search.json?device=desktop&engine=google&google_domain=google.com&q=latest+news+in+the+world&start=30', '5': 'https://serpapi.com/search.json?device=desktop&engine=google&google_domain=google.com&q=latest+news+in+the+world&start=40', '6': 'https://serpapi.com/search.json?device=desktop&engine=google&google_domain=google.com&q=latest+news+in+the+world&start=50', '7': 'https://serpapi.com/search.json?device=desktop&engine=google&google_domain=google.com&q=latest+news+in+the+world&start=60', '8': 'https://serpapi.com/search.json?device=desktop&engine=google&google_domain=google.com&q=latest+news+in+the+world&start=70', '9': 'https://serpapi.com/search.json?device=desktop&engine=google&google_domain=google.com&q=latest+news+in+the+world&start=80', '10': 'https://serpapi.com/search.json?device=desktop&engine=google&google_domain=google.com&q=latest+news+in+the+world&start=90'}}}\n"
     ]
    }
   ],
   "source": [
    "from serpapi import GoogleSearch\n",
    "from getpass import getpass\n",
    "\n",
    "SERPAPI_API_KEY = getpass(\"Enter your SerpAPI API key: \")\n",
    "\n",
    "params = {\n",
    "    \"api_key\": SERPAPI_API_KEY,\n",
    "    \"engine\": \"google\",\n",
    "    \"q\": \"latest news in the world\",\n",
    "}\n",
    "\n",
    "search = GoogleSearch(params)\n",
    "results = search.get_dict()\n",
    "\n",
    "print(results)"
   ]
  },
  {
   "cell_type": "markdown",
   "metadata": {},
   "source": [
    "Our results are provided in the `\"organic_results\"` key:"
   ]
  },
  {
   "cell_type": "code",
   "execution_count": 2,
   "metadata": {},
   "outputs": [
    {
     "data": {
      "text/plain": [
       "[{'position': 1,\n",
       "  'title': 'World | Latest News & Updates',\n",
       "  'link': 'https://www.bbc.com/news/world',\n",
       "  'redirect_link': 'https://www.google.com/url?sa=t&source=web&rct=j&opi=89978449&url=https://www.bbc.com/news/world&ved=2ahUKEwjg4bjzgu2OAxUOFVkFHWWLFZ4QFnoECCIQAQ',\n",
       "  'displayed_link': 'https://www.bbc.com › news › world',\n",
       "  'favicon': 'https://serpapi.com/searches/688e7caf0d0b29b7d68996f4/images/a1e5f2d48cb5e598291b88bdfff01798cff16e6d023b0c62d12765cd24da488e.png',\n",
       "  'snippet': 'World · Hamas refuses to disarm until Palestinian state established · Family condemns Hamas video showing emaciated Israeli hostage · Police find getaway car of ...',\n",
       "  'snippet_highlighted_words': ['Hamas refuses to disarm until Palestinian state established'],\n",
       "  'sitelinks': {'inline': [{'title': 'BBC World',\n",
       "     'link': 'https://www.bbc.com/news/world_radio_and_tv'},\n",
       "    {'title': 'Middle East',\n",
       "     'link': 'https://www.bbc.com/news/world/middle_east'},\n",
       "    {'title': 'Africa', 'link': 'https://www.bbc.com/news/world/africa'},\n",
       "    {'title': 'Europe', 'link': 'https://www.bbc.com/news/world/europe'}]},\n",
       "  'source': 'BBC'},\n",
       " {'position': 2,\n",
       "  'title': 'World news - breaking news, video, headlines and opinion',\n",
       "  'link': 'https://www.cnn.com/world',\n",
       "  'redirect_link': 'https://www.google.com/url?sa=t&source=web&rct=j&opi=89978449&url=https://www.cnn.com/world&ved=2ahUKEwjg4bjzgu2OAxUOFVkFHWWLFZ4QFnoECCEQAQ',\n",
       "  'displayed_link': 'https://www.cnn.com › world',\n",
       "  'favicon': 'https://serpapi.com/searches/688e7caf0d0b29b7d68996f4/images/a1e5f2d48cb5e598291b88bdfff0179824154abd8473996c73264a5fae32e530.png',\n",
       "  'snippet': 'View CNN world news today for international news and videos from Europe, Asia, Africa, the Middle East and the Americas.',\n",
       "  'snippet_highlighted_words': ['world news', 'news'],\n",
       "  'source': 'CNN'},\n",
       " {'position': 3,\n",
       "  'title': 'World news',\n",
       "  'link': 'https://www.cbsnews.com/world/',\n",
       "  'redirect_link': 'https://www.google.com/url?sa=t&source=web&rct=j&opi=89978449&url=https://www.cbsnews.com/world/&ved=2ahUKEwjg4bjzgu2OAxUOFVkFHWWLFZ4QFnoECB8QAQ',\n",
       "  'displayed_link': 'https://www.cbsnews.com › World',\n",
       "  'favicon': 'https://serpapi.com/searches/688e7caf0d0b29b7d68996f4/images/a1e5f2d48cb5e598291b88bdfff01798ac84368b0b93492f9b036da37cd34117.png',\n",
       "  'snippet': 'World · Pope thrills hundreds of thousands of young Catholics at youth festival · Team USA sets new relay record at swim worlds and Ledecky wins again · U.S. ...',\n",
       "  'snippet_highlighted_words': ['Pope thrills hundreds of thousands of young Catholics at youth festival'],\n",
       "  'source': 'CBS News'},\n",
       " {'position': 4,\n",
       "  'title': 'Breaking News, World News and Video from Al Jazeera',\n",
       "  'link': 'https://www.aljazeera.com/',\n",
       "  'redirect_link': 'https://www.google.com/url?sa=t&source=web&rct=j&opi=89978449&url=https://www.aljazeera.com/&ved=2ahUKEwjg4bjzgu2OAxUOFVkFHWWLFZ4QFnoECFUQAQ',\n",
       "  'displayed_link': 'https://www.aljazeera.com',\n",
       "  'favicon': 'https://serpapi.com/searches/688e7caf0d0b29b7d68996f4/images/a1e5f2d48cb5e598291b88bdfff01798eca50e721d755ae60db04720906526cb.png',\n",
       "  'date': '4 hours ago',\n",
       "  'snippet': 'Al Jazeera · Siraj strikes after Jaiswal helps India set England daunting target · Ukraine drone attacks kill three in Russia, cause fire at oil ...',\n",
       "  'snippet_highlighted_words': ['Siraj strikes after Jaiswal helps India set England daunting target'],\n",
       "  'sitelinks': {'inline': [{'title': 'News',\n",
       "     'link': 'https://www.aljazeera.com/news/'},\n",
       "    {'title': 'US & Canada News',\n",
       "     'link': 'https://www.aljazeera.com/us-canada/'},\n",
       "    {'title': 'Live', 'link': 'https://www.aljazeera.com/live'},\n",
       "    {'title': 'Africa News', 'link': 'https://www.aljazeera.com/africa/'}]},\n",
       "  'source': 'Al Jazeera'},\n",
       " {'position': 5,\n",
       "  'title': 'World News',\n",
       "  'link': 'https://timesofindia.indiatimes.com/world',\n",
       "  'redirect_link': 'https://www.google.com/url?sa=t&source=web&rct=j&opi=89978449&url=https://timesofindia.indiatimes.com/world&ved=2ahUKEwjg4bjzgu2OAxUOFVkFHWWLFZ4QFnoECCMQAQ',\n",
       "  'displayed_link': 'https://timesofindia.indiatimes.com › world',\n",
       "  'favicon': 'https://serpapi.com/searches/688e7caf0d0b29b7d68996f4/images/a1e5f2d48cb5e598291b88bdfff01798de4d44098c05bb33b094d324f3d4563e.png',\n",
       "  'snippet': \"Ukraine's Kamikaze Drone GOES BONKERS In Putin's Backyard | Watch WILD Video Of UAV Crash In Russia. 03:19. Hamas Snaps At Israel For Starving Gazans, ...\",\n",
       "  'snippet_highlighted_words': [\"Ukraine's Kamikaze Drone GOES BONKERS In Putin's Backyard\"],\n",
       "  'sitelinks': {'inline': [{'title': 'Rest of World News',\n",
       "     'link': 'https://timesofindia.indiatimes.com/world/rest-of-world'},\n",
       "    {'title': 'Pakistan News',\n",
       "     'link': 'https://timesofindia.indiatimes.com/world/pakistan'},\n",
       "    {'title': 'US', 'link': 'https://timesofindia.indiatimes.com/world/us'},\n",
       "    {'title': 'China News',\n",
       "     'link': 'https://timesofindia.indiatimes.com/world/china'}]},\n",
       "  'source': 'The Times of India'},\n",
       " {'position': 6,\n",
       "  'title': 'Latest news from around the world',\n",
       "  'link': 'https://www.theguardian.com/world',\n",
       "  'redirect_link': 'https://www.google.com/url?sa=t&source=web&rct=j&opi=89978449&url=https://www.theguardian.com/world&ved=2ahUKEwjg4bjzgu2OAxUOFVkFHWWLFZ4QFnoECCQQAQ',\n",
       "  'displayed_link': 'https://www.theguardian.com › world',\n",
       "  'favicon': 'https://serpapi.com/searches/688e7caf0d0b29b7d68996f4/images/a1e5f2d48cb5e598291b88bdfff017982ec7e93b5df255ee4f8469eace0e1e4d.png',\n",
       "  'snippet': 'Asia Pacific · Weather tracker: deadly floods devastate northern China · Panama files lawsuits against owner of ports at centre of US-China struggle · Hong Kong ...',\n",
       "  'snippet_highlighted_words': ['Asia Pacific'],\n",
       "  'sitelinks': {'inline': [{'title': 'Europe',\n",
       "     'link': 'https://www.theguardian.com/world/europe-news'},\n",
       "    {'title': 'Americas',\n",
       "     'link': 'https://www.theguardian.com/world/americas'},\n",
       "    {'title': 'Asia', 'link': 'https://www.theguardian.com/world/asia'},\n",
       "    {'title': 'US', 'link': 'https://www.theguardian.com/us-news'}]},\n",
       "  'source': 'The Guardian'},\n",
       " {'position': 7,\n",
       "  'title': 'World News | Latest Top Stories',\n",
       "  'link': 'https://www.reuters.com/world/',\n",
       "  'redirect_link': 'https://www.google.com/url?sa=t&source=web&rct=j&opi=89978449&url=https://www.reuters.com/world/&ved=2ahUKEwjg4bjzgu2OAxUOFVkFHWWLFZ4QFnoECCYQAQ',\n",
       "  'displayed_link': 'https://www.reuters.com › world',\n",
       "  'favicon': 'https://serpapi.com/searches/688e7caf0d0b29b7d68996f4/images/a1e5f2d48cb5e598291b88bdfff0179837cd0be858cc2356d001ec913a18fba2.png',\n",
       "  'snippet': 'Reuters.com is your online source for the latest world news stories and current events, ensuring our readers up to date with any breaking news developments.',\n",
       "  'snippet_highlighted_words': ['Reuters.com is your online source for the latest world news stories'],\n",
       "  'source': 'Reuters'},\n",
       " {'position': 8,\n",
       "  'title': 'Google News',\n",
       "  'link': 'https://news.google.com/',\n",
       "  'redirect_link': 'https://www.google.com/url?sa=t&source=web&rct=j&opi=89978449&url=https://news.google.com/&ved=2ahUKEwjg4bjzgu2OAxUOFVkFHWWLFZ4QFnoECCAQAQ',\n",
       "  'displayed_link': 'https://news.google.com',\n",
       "  'favicon': 'https://serpapi.com/searches/688e7caf0d0b29b7d68996f4/images/a1e5f2d48cb5e598291b88bdfff01798b5d03732aab24a2b17cbe61268f38999.png',\n",
       "  'snippet': \"Top stories · Republicans slam Trump's firing of Bureau of Labor Statistics chief · Anaconda, Montana shooting: Police find getaway car of army veteran suspected ...\",\n",
       "  'snippet_highlighted_words': [\"Republicans slam Trump's firing of Bureau of Labor Statistics chief\"],\n",
       "  'source': 'Google News'},\n",
       " {'position': 9,\n",
       "  'title': 'CNN: Breaking News, Latest News and Videos',\n",
       "  'link': 'https://www.cnn.com/',\n",
       "  'redirect_link': 'https://www.google.com/url?sa=t&source=web&rct=j&opi=89978449&url=https://www.cnn.com/&ved=2ahUKEwjg4bjzgu2OAxUOFVkFHWWLFZ4QFnoECCUQAQ',\n",
       "  'displayed_link': 'https://www.cnn.com',\n",
       "  'favicon': 'https://serpapi.com/searches/688e7caf0d0b29b7d68996f4/images/a1e5f2d48cb5e598291b88bdfff017980989f47bd01163143a832a9639516078.png',\n",
       "  'snippet': 'View the latest news and breaking news today for U.S., world, weather, entertainment, politics and health at CNN.com.',\n",
       "  'snippet_highlighted_words': ['breaking news today for U.S'],\n",
       "  'sitelinks': {'inline': [{'title': 'World',\n",
       "     'link': 'https://www.cnn.com/world'},\n",
       "    {'title': 'US', 'link': 'https://www.cnn.com/us'},\n",
       "    {'title': 'CNN', 'link': 'https://edition.cnn.com/'},\n",
       "    {'title': 'Politics', 'link': 'https://www.cnn.com/politics'}]},\n",
       "  'source': 'CNN'}]"
      ]
     },
     "execution_count": 2,
     "metadata": {},
     "output_type": "execute_result"
    }
   ],
   "source": [
    "results[\"organic_results\"]"
   ]
  },
  {
   "cell_type": "markdown",
   "metadata": {},
   "source": [
    "We reformat this to extract only the most relevant information, such as the the title, source, link, and snippet. Let's use pydantic `BaseModel` to define this structure."
   ]
  },
  {
   "cell_type": "code",
   "execution_count": 3,
   "metadata": {},
   "outputs": [],
   "source": [
    "from pydantic import BaseModel\n",
    "\n",
    "class Article(BaseModel):\n",
    "    title: str\n",
    "    source: str\n",
    "    link: str\n",
    "    snippet: str\n",
    "\n",
    "    @classmethod\n",
    "    def from_serpapi_result(cls, result: dict) -> \"Article\":\n",
    "        return cls(\n",
    "            title=result[\"title\"],\n",
    "            source=result[\"source\"],\n",
    "            link=result[\"link\"],\n",
    "            snippet=result[\"snippet\"],\n",
    "        )"
   ]
  },
  {
   "cell_type": "code",
   "execution_count": 4,
   "metadata": {},
   "outputs": [],
   "source": [
    "articles = [Article.from_serpapi_result(result) for result in results[\"organic_results\"]]"
   ]
  },
  {
   "cell_type": "code",
   "execution_count": 6,
   "metadata": {},
   "outputs": [
    {
     "data": {
      "text/plain": [
       "[Article(title='World | Latest News & Updates', source='BBC', link='https://www.bbc.com/news/world', snippet='World · Hamas refuses to disarm until Palestinian state established · Family condemns Hamas video showing emaciated Israeli hostage · Police find getaway car of ...'),\n",
       " Article(title='World news - breaking news, video, headlines and opinion', source='CNN', link='https://www.cnn.com/world', snippet='View CNN world news today for international news and videos from Europe, Asia, Africa, the Middle East and the Americas.'),\n",
       " Article(title='World news', source='CBS News', link='https://www.cbsnews.com/world/', snippet='World · Pope thrills hundreds of thousands of young Catholics at youth festival · Team USA sets new relay record at swim worlds and Ledecky wins again · U.S. ...'),\n",
       " Article(title='Breaking News, World News and Video from Al Jazeera', source='Al Jazeera', link='https://www.aljazeera.com/', snippet='Al Jazeera · Siraj strikes after Jaiswal helps India set England daunting target · Ukraine drone attacks kill three in Russia, cause fire at oil ...'),\n",
       " Article(title='World News', source='The Times of India', link='https://timesofindia.indiatimes.com/world', snippet=\"Ukraine's Kamikaze Drone GOES BONKERS In Putin's Backyard | Watch WILD Video Of UAV Crash In Russia. 03:19. Hamas Snaps At Israel For Starving Gazans, ...\"),\n",
       " Article(title='Latest news from around the world', source='The Guardian', link='https://www.theguardian.com/world', snippet='Asia Pacific · Weather tracker: deadly floods devastate northern China · Panama files lawsuits against owner of ports at centre of US-China struggle · Hong Kong ...'),\n",
       " Article(title='World News | Latest Top Stories', source='Reuters', link='https://www.reuters.com/world/', snippet='Reuters.com is your online source for the latest world news stories and current events, ensuring our readers up to date with any breaking news developments.'),\n",
       " Article(title='Google News', source='Google News', link='https://news.google.com/', snippet=\"Top stories · Republicans slam Trump's firing of Bureau of Labor Statistics chief · Anaconda, Montana shooting: Police find getaway car of army veteran suspected ...\"),\n",
       " Article(title='CNN: Breaking News, Latest News and Videos', source='CNN', link='https://www.cnn.com/', snippet='View the latest news and breaking news today for U.S., world, weather, entertainment, politics and health at CNN.com.')]"
      ]
     },
     "execution_count": 6,
     "metadata": {},
     "output_type": "execute_result"
    }
   ],
   "source": [
    "articles[:9]  # Display the first 9 articles"
   ]
  },
  {
   "cell_type": "markdown",
   "metadata": {},
   "source": [
    "## Using Async"
   ]
  },
  {
   "cell_type": "markdown",
   "metadata": {},
   "source": [
    "All of this works, but it unfortunately is not async and the SerpAPI SDK does not support async either, so we much query the API directly using the `aiohttp` library."
   ]
  },
  {
   "cell_type": "code",
   "execution_count": 7,
   "metadata": {},
   "outputs": [
    {
     "data": {
      "text/plain": [
       "[{'position': 1,\n",
       "  'title': 'World | Latest News & Updates',\n",
       "  'link': 'https://www.bbc.com/news/world',\n",
       "  'redirect_link': 'https://www.google.com/url?sa=t&source=web&rct=j&opi=89978449&url=https://www.bbc.com/news/world&ved=2ahUKEwjg4bjzgu2OAxUOFVkFHWWLFZ4QFnoECCIQAQ',\n",
       "  'displayed_link': 'https://www.bbc.com › news › world',\n",
       "  'favicon': 'https://serpapi.com/searches/688e7caf0d0b29b7d68996f4/images/a1e5f2d48cb5e598291b88bdfff01798cff16e6d023b0c62d12765cd24da488e.png',\n",
       "  'snippet': 'World · Hamas refuses to disarm until Palestinian state established · Family condemns Hamas video showing emaciated Israeli hostage · Police find getaway car of ...',\n",
       "  'snippet_highlighted_words': ['Hamas refuses to disarm until Palestinian state established'],\n",
       "  'sitelinks': {'inline': [{'title': 'BBC World',\n",
       "     'link': 'https://www.bbc.com/news/world_radio_and_tv'},\n",
       "    {'title': 'Middle East',\n",
       "     'link': 'https://www.bbc.com/news/world/middle_east'},\n",
       "    {'title': 'Africa', 'link': 'https://www.bbc.com/news/world/africa'},\n",
       "    {'title': 'Europe', 'link': 'https://www.bbc.com/news/world/europe'}]},\n",
       "  'source': 'BBC'},\n",
       " {'position': 2,\n",
       "  'title': 'World news - breaking news, video, headlines and opinion',\n",
       "  'link': 'https://www.cnn.com/world',\n",
       "  'redirect_link': 'https://www.google.com/url?sa=t&source=web&rct=j&opi=89978449&url=https://www.cnn.com/world&ved=2ahUKEwjg4bjzgu2OAxUOFVkFHWWLFZ4QFnoECCEQAQ',\n",
       "  'displayed_link': 'https://www.cnn.com › world',\n",
       "  'favicon': 'https://serpapi.com/searches/688e7caf0d0b29b7d68996f4/images/a1e5f2d48cb5e598291b88bdfff0179824154abd8473996c73264a5fae32e530.png',\n",
       "  'snippet': 'View CNN world news today for international news and videos from Europe, Asia, Africa, the Middle East and the Americas.',\n",
       "  'snippet_highlighted_words': ['world news', 'news'],\n",
       "  'source': 'CNN'},\n",
       " {'position': 3,\n",
       "  'title': 'World news',\n",
       "  'link': 'https://www.cbsnews.com/world/',\n",
       "  'redirect_link': 'https://www.google.com/url?sa=t&source=web&rct=j&opi=89978449&url=https://www.cbsnews.com/world/&ved=2ahUKEwjg4bjzgu2OAxUOFVkFHWWLFZ4QFnoECB8QAQ',\n",
       "  'displayed_link': 'https://www.cbsnews.com › World',\n",
       "  'favicon': 'https://serpapi.com/searches/688e7caf0d0b29b7d68996f4/images/a1e5f2d48cb5e598291b88bdfff01798ac84368b0b93492f9b036da37cd34117.png',\n",
       "  'snippet': 'World · Pope thrills hundreds of thousands of young Catholics at youth festival · Team USA sets new relay record at swim worlds and Ledecky wins again · U.S. ...',\n",
       "  'snippet_highlighted_words': ['Pope thrills hundreds of thousands of young Catholics at youth festival'],\n",
       "  'source': 'CBS News'},\n",
       " {'position': 4,\n",
       "  'title': 'Breaking News, World News and Video from Al Jazeera',\n",
       "  'link': 'https://www.aljazeera.com/',\n",
       "  'redirect_link': 'https://www.google.com/url?sa=t&source=web&rct=j&opi=89978449&url=https://www.aljazeera.com/&ved=2ahUKEwjg4bjzgu2OAxUOFVkFHWWLFZ4QFnoECFUQAQ',\n",
       "  'displayed_link': 'https://www.aljazeera.com',\n",
       "  'favicon': 'https://serpapi.com/searches/688e7caf0d0b29b7d68996f4/images/a1e5f2d48cb5e598291b88bdfff01798eca50e721d755ae60db04720906526cb.png',\n",
       "  'date': '4 hours ago',\n",
       "  'snippet': 'Al Jazeera · Siraj strikes after Jaiswal helps India set England daunting target · Ukraine drone attacks kill three in Russia, cause fire at oil ...',\n",
       "  'snippet_highlighted_words': ['Siraj strikes after Jaiswal helps India set England daunting target'],\n",
       "  'sitelinks': {'inline': [{'title': 'News',\n",
       "     'link': 'https://www.aljazeera.com/news/'},\n",
       "    {'title': 'US & Canada News',\n",
       "     'link': 'https://www.aljazeera.com/us-canada/'},\n",
       "    {'title': 'Live', 'link': 'https://www.aljazeera.com/live'},\n",
       "    {'title': 'Africa News', 'link': 'https://www.aljazeera.com/africa/'}]},\n",
       "  'source': 'Al Jazeera'},\n",
       " {'position': 5,\n",
       "  'title': 'World News',\n",
       "  'link': 'https://timesofindia.indiatimes.com/world',\n",
       "  'redirect_link': 'https://www.google.com/url?sa=t&source=web&rct=j&opi=89978449&url=https://timesofindia.indiatimes.com/world&ved=2ahUKEwjg4bjzgu2OAxUOFVkFHWWLFZ4QFnoECCMQAQ',\n",
       "  'displayed_link': 'https://timesofindia.indiatimes.com › world',\n",
       "  'favicon': 'https://serpapi.com/searches/688e7caf0d0b29b7d68996f4/images/a1e5f2d48cb5e598291b88bdfff01798de4d44098c05bb33b094d324f3d4563e.png',\n",
       "  'snippet': \"Ukraine's Kamikaze Drone GOES BONKERS In Putin's Backyard | Watch WILD Video Of UAV Crash In Russia. 03:19. Hamas Snaps At Israel For Starving Gazans, ...\",\n",
       "  'snippet_highlighted_words': [\"Ukraine's Kamikaze Drone GOES BONKERS In Putin's Backyard\"],\n",
       "  'sitelinks': {'inline': [{'title': 'Rest of World News',\n",
       "     'link': 'https://timesofindia.indiatimes.com/world/rest-of-world'},\n",
       "    {'title': 'Pakistan News',\n",
       "     'link': 'https://timesofindia.indiatimes.com/world/pakistan'},\n",
       "    {'title': 'US', 'link': 'https://timesofindia.indiatimes.com/world/us'},\n",
       "    {'title': 'China News',\n",
       "     'link': 'https://timesofindia.indiatimes.com/world/china'}]},\n",
       "  'source': 'The Times of India'},\n",
       " {'position': 6,\n",
       "  'title': 'Latest news from around the world',\n",
       "  'link': 'https://www.theguardian.com/world',\n",
       "  'redirect_link': 'https://www.google.com/url?sa=t&source=web&rct=j&opi=89978449&url=https://www.theguardian.com/world&ved=2ahUKEwjg4bjzgu2OAxUOFVkFHWWLFZ4QFnoECCQQAQ',\n",
       "  'displayed_link': 'https://www.theguardian.com › world',\n",
       "  'favicon': 'https://serpapi.com/searches/688e7caf0d0b29b7d68996f4/images/a1e5f2d48cb5e598291b88bdfff017982ec7e93b5df255ee4f8469eace0e1e4d.png',\n",
       "  'snippet': 'Asia Pacific · Weather tracker: deadly floods devastate northern China · Panama files lawsuits against owner of ports at centre of US-China struggle · Hong Kong ...',\n",
       "  'snippet_highlighted_words': ['Asia Pacific'],\n",
       "  'sitelinks': {'inline': [{'title': 'Europe',\n",
       "     'link': 'https://www.theguardian.com/world/europe-news'},\n",
       "    {'title': 'Americas',\n",
       "     'link': 'https://www.theguardian.com/world/americas'},\n",
       "    {'title': 'Asia', 'link': 'https://www.theguardian.com/world/asia'},\n",
       "    {'title': 'US', 'link': 'https://www.theguardian.com/us-news'}]},\n",
       "  'source': 'The Guardian'},\n",
       " {'position': 7,\n",
       "  'title': 'World News | Latest Top Stories',\n",
       "  'link': 'https://www.reuters.com/world/',\n",
       "  'redirect_link': 'https://www.google.com/url?sa=t&source=web&rct=j&opi=89978449&url=https://www.reuters.com/world/&ved=2ahUKEwjg4bjzgu2OAxUOFVkFHWWLFZ4QFnoECCYQAQ',\n",
       "  'displayed_link': 'https://www.reuters.com › world',\n",
       "  'favicon': 'https://serpapi.com/searches/688e7caf0d0b29b7d68996f4/images/a1e5f2d48cb5e598291b88bdfff0179837cd0be858cc2356d001ec913a18fba2.png',\n",
       "  'snippet': 'Reuters.com is your online source for the latest world news stories and current events, ensuring our readers up to date with any breaking news developments.',\n",
       "  'snippet_highlighted_words': ['Reuters.com is your online source for the latest world news stories'],\n",
       "  'source': 'Reuters'},\n",
       " {'position': 8,\n",
       "  'title': 'Google News',\n",
       "  'link': 'https://news.google.com/',\n",
       "  'redirect_link': 'https://www.google.com/url?sa=t&source=web&rct=j&opi=89978449&url=https://news.google.com/&ved=2ahUKEwjg4bjzgu2OAxUOFVkFHWWLFZ4QFnoECCAQAQ',\n",
       "  'displayed_link': 'https://news.google.com',\n",
       "  'favicon': 'https://serpapi.com/searches/688e7caf0d0b29b7d68996f4/images/a1e5f2d48cb5e598291b88bdfff01798b5d03732aab24a2b17cbe61268f38999.png',\n",
       "  'snippet': \"Top stories · Republicans slam Trump's firing of Bureau of Labor Statistics chief · Anaconda, Montana shooting: Police find getaway car of army veteran suspected ...\",\n",
       "  'snippet_highlighted_words': [\"Republicans slam Trump's firing of Bureau of Labor Statistics chief\"],\n",
       "  'source': 'Google News'},\n",
       " {'position': 9,\n",
       "  'title': 'CNN: Breaking News, Latest News and Videos',\n",
       "  'link': 'https://www.cnn.com/',\n",
       "  'redirect_link': 'https://www.google.com/url?sa=t&source=web&rct=j&opi=89978449&url=https://www.cnn.com/&ved=2ahUKEwjg4bjzgu2OAxUOFVkFHWWLFZ4QFnoECCUQAQ',\n",
       "  'displayed_link': 'https://www.cnn.com',\n",
       "  'favicon': 'https://serpapi.com/searches/688e7caf0d0b29b7d68996f4/images/a1e5f2d48cb5e598291b88bdfff017980989f47bd01163143a832a9639516078.png',\n",
       "  'snippet': 'View the latest news and breaking news today for U.S., world, weather, entertainment, politics and health at CNN.com.',\n",
       "  'snippet_highlighted_words': ['breaking news today for U.S'],\n",
       "  'sitelinks': {'inline': [{'title': 'World',\n",
       "     'link': 'https://www.cnn.com/world'},\n",
       "    {'title': 'US', 'link': 'https://www.cnn.com/us'},\n",
       "    {'title': 'CNN', 'link': 'https://edition.cnn.com/'},\n",
       "    {'title': 'Politics', 'link': 'https://www.cnn.com/politics'}]},\n",
       "  'source': 'CNN'}]"
      ]
     },
     "execution_count": 7,
     "metadata": {},
     "output_type": "execute_result"
    }
   ],
   "source": [
    "import aiohttp\n",
    "\n",
    "# Redefine the parameters for the asynchronous request\n",
    "params = {\n",
    "    \"api_key\": SERPAPI_API_KEY,\n",
    "    \"engine\": \"google\",\n",
    "    \"q\": \"latest news in the world\",\n",
    "}\n",
    "\n",
    "# Uncomment the following lines to use synchronous requests\n",
    "# requests.get(\n",
    "#     \"https://serpapi.com/search\",\n",
    "#     params=params\n",
    "# )\n",
    "\n",
    "async with aiohttp.ClientSession() as session:\n",
    "    async with session.get(\n",
    "        \"https://serpapi.com/search\",\n",
    "        params=params\n",
    "    ) as response:\n",
    "        results = await response.json()\n",
    "\n",
    "results[\"organic_results\"]"
   ]
  },
  {
   "cell_type": "markdown",
   "metadata": {},
   "source": [
    "With that, we have all we need to build a fully async serpapi tool."
   ]
  },
  {
   "cell_type": "code",
   "execution_count": 8,
   "metadata": {},
   "outputs": [],
   "source": [
    "from langchain_core.tools import tool\n",
    "\n",
    "@tool\n",
    "async def serpapi(query: str) -> list[Article]:\n",
    "    \"\"\"Use this tool to search the web.\"\"\"\n",
    "    params = {\n",
    "        \"api_key\": SERPAPI_API_KEY,\n",
    "        \"engine\": \"google\",\n",
    "        \"q\": query,\n",
    "    }\n",
    "    async with aiohttp.ClientSession() as session:\n",
    "        async with session.get(\n",
    "            \"https://serpapi.com/search\",\n",
    "            params=params\n",
    "        ) as response:\n",
    "            results = await response.json()\n",
    "    return [Article.from_serpapi_result(result) for result in results[\"organic_results\"]]"
   ]
  },
  {
   "cell_type": "markdown",
   "metadata": {},
   "source": [
    "Note that because this tool is async, we cannot use `tool.func` to call it as before:"
   ]
  },
  {
   "cell_type": "code",
   "execution_count": 9,
   "metadata": {},
   "outputs": [],
   "source": [
    "serpapi.func"
   ]
  },
  {
   "cell_type": "markdown",
   "metadata": {},
   "source": [
    "Instead, we use `tool.coroutine`:"
   ]
  },
  {
   "cell_type": "code",
   "execution_count": 10,
   "metadata": {},
   "outputs": [
    {
     "data": {
      "text/plain": [
       "<function __main__.serpapi(query: str) -> list[__main__.Article]>"
      ]
     },
     "execution_count": 10,
     "metadata": {},
     "output_type": "execute_result"
    }
   ],
   "source": [
    "serpapi.coroutine"
   ]
  },
  {
   "cell_type": "code",
   "execution_count": 16,
   "metadata": {},
   "outputs": [
    {
     "name": "stdout",
     "output_type": "stream",
     "text": [
      "Title: CA Hindus and Sikhs report record hate crimes, but why ...\n",
      "Source: CalMatters\n",
      "Link: https://calmatters.org/justice/2024/09/california-hindu-hate-crimes/\n",
      "Snippet: The vandalization of three California Hindu temples escalated fears about hate crimes against Indian Americans. Meanwhile, Sikhs are on edge from attacks ...See more\n",
      "\n",
      "Title: Anti-Hindu hate crimes rise in United States, again: FBI report\n",
      "Source: Hindu American Foundation\n",
      "Link: https://www.hinduamerican.org/press/anti-hindu-rate-crimes-united-states-rise-fbi-report/\n",
      "Snippet: Newly released US government statistics show 14 cases of hate crimes targeting Hindu Americans in 2018 · 0.9% were anti-Hindu (14 offenses). · Hate crime murders ...See more\n",
      "\n",
      "Title: Anti-Hindu sentiment\n",
      "Source: Wikipedia\n",
      "Link: https://en.wikipedia.org/wiki/Anti-Hindu_sentiment\n",
      "Snippet: ... Hindu Americans have been the targets of bullying, discrimination, hate speech, harassment, and bias-motivated crimes.\" Criticism. Some academics ...See more\n",
      "\n",
      "Title: Hindus under attack: a weekly roundup of hate crimes, ...\n",
      "Source: HinduPost\n",
      "Link: https://hindupost.in/dharma-religion/hindus-under-attack-roundup-week-238/\n",
      "Snippet: From murders, forced conversions, land grabs, assault on festivals, desecration of temples and murtis, hate speech, and sexual violence to institutionalised & ...See more\n",
      "\n",
      "Title: Violence Against Muslims in India - Ballard Brief - BYU\n",
      "Source: Ballard Brief\n",
      "Link: https://ballardbrief.byu.edu/issue-briefs/violence-against-muslims-in-india\n",
      "Snippet: Ninety percent of religion-based hate crimes between 2009 and 2019 occurred after the BJP party took power in 2014, with hate speech increasing ...See more\n",
      "\n",
      "Title: Hate crimes rise against Indian Americans, deepening ...\n",
      "Source: Local News Matters\n",
      "Link: https://localnewsmatters.org/2024/09/10/hate-crimes-rise-against-indian-americans-deepening-divide-between-hindus-and-sikhs/\n",
      "Snippet: But Hindus aren't the only ones in California's Indian community who are seeing a rise in hate crimes and bias against them. Sikhs, members of ...See more\n",
      "\n",
      "Title: History of Hinduphobia in the United States\n",
      "Source: Hindu American Foundation\n",
      "Link: https://www.hinduamerican.org/hinduphobia-history/\n",
      "Snippet: This resource attempts the task of assessing the legal landscape for Hindu Americans, by analyzing the level of anti-Hindu hate-motivated violence targeting ...See more\n",
      "\n",
      "Title: Auditing the Hindu American Foundation's Claims of “ ...\n",
      "Source: Jewish Currents\n",
      "Link: https://jewishcurrents.org/auditing-the-hindu-american-foundations-claims-of-hinduphobia\n",
      "Snippet: FBI data reveals that among reported anti-Hindu hate crimes in the past 10 years, 59% of perpetrators have been white, and Jewish Currents ...See more\n",
      "\n",
      "Title: California hate crime hotline gives Hindus more evidence ...\n",
      "Source: The Christian Century\n",
      "Link: https://www.christiancentury.org/news/california-hate-crime-hotline-gives-hindus-more-evidence-shortfall-fbi-reporting\n",
      "Snippet: According to the FBI's most recently published hate-crime report, there were 37 instances of anti-Hindu hate crimes in 2021 and 2022 nationwide— ...See more\n",
      "\n",
      "Title: Persecution of Hindus\n",
      "Source: Wikipedia\n",
      "Link: https://en.wikipedia.org/wiki/Persecution_of_Hindus\n",
      "Snippet: ... hate crimes against Indians in New Jersey reported in 1991. On 2 January 2012, a Hindu worship center in New York City was firebombed. In late ...See more\n",
      "\n"
     ]
    }
   ],
   "source": [
    "# how to manually call the async serpai tool\n",
    "\n",
    "async def main():\n",
    "    results = await serpapi.coroutine(input(\"Enter your search query: \\n\"))\n",
    "    for article in results:\n",
    "        print(f\"Title: {article.title}\\nSource: {article.source}\\nLink: {article.link}\\nSnippet: {article.snippet}\\n\")\n",
    "\n",
    "await main()"
   ]
  },
  {
   "cell_type": "markdown",
   "metadata": {},
   "source": [
    "---"
   ]
  }
 ],
 "metadata": {
  "kernelspec": {
   "display_name": "langchain-course (3.12.7)",
   "language": "python",
   "name": "python3"
  },
  "language_info": {
   "codemirror_mode": {
    "name": "ipython",
    "version": 3
   },
   "file_extension": ".py",
   "mimetype": "text/x-python",
   "name": "python",
   "nbconvert_exporter": "python",
   "pygments_lexer": "ipython3",
   "version": "3.12.7"
  }
 },
 "nbformat": 4,
 "nbformat_minor": 2
}
