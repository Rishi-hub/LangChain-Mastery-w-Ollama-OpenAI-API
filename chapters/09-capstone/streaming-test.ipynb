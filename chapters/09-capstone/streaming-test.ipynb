{
 "cells": [
  {
   "cell_type": "markdown",
   "metadata": {},
   "source": [
    "## Test Streaming API"
   ]
  },
  {
   "cell_type": "markdown",
   "metadata": {},
   "source": [
    "This notebook covers hitting the API `/invoke` endpoint and streaming the code to our terminal."
   ]
  },
  {
   "cell_type": "code",
   "execution_count": 1,
   "metadata": {},
   "outputs": [],
   "source": [
    "import requests\n",
    "\n",
    "def get_stream(query: str):\n",
    "    localsession = requests.Session()\n",
    "    with localsession.post(\n",
    "        f\"http://localhost:8000/invoke?content={query}\",\n",
    "        stream=True,\n",
    "        headers={\"Accept\": \"text/event-stream\"}\n",
    "    ) as response:\n",
    "        for token in response.iter_content(decode_unicode=True):\n",
    "            if token:  # Skip empty lines\n",
    "                print(token, end=\"\", flush=True)"
   ]
  },
  {
   "cell_type": "markdown",
   "metadata": {},
   "source": [
    "We can test with the simple `add` tool first:"
   ]
  },
  {
   "cell_type": "code",
   "execution_count": 2,
   "metadata": {},
   "outputs": [
    {
     "name": "stdout",
     "output_type": "stream",
     "text": [
      "<step><step_name>add</step_name>{\"x\":5,\"y\":5}</step><step><step_name>final_answer</step_name>{\"answer\":\"The result of 5 plus 5 is 10.\",\"tools_used\":[\"functions.add\"]}"
     ]
    }
   ],
   "source": [
    "get_stream(\"what is 5+5\")"
   ]
  },
  {
   "cell_type": "markdown",
   "metadata": {},
   "source": [
    "Now let's try the `serpapi` tool:"
   ]
  },
  {
   "cell_type": "code",
   "execution_count": 3,
   "metadata": {},
   "outputs": [
    {
     "name": "stdout",
     "output_type": "stream",
     "text": [
      "<step><step_name>serpapi</step_name>{\"query\":\"latest world news\"}</step><step><step_name>final_answer</step_name>{\"answer\":\"Here are some of the latest news highlights from around the world:\\n\\n1. **Tsunami Warnings**: Tsunami warnings have been issued in Russia, Japan, Ecuador, and Hawaii following seismic activity.\\n2. **Montana Shooting**: A manhunt is underway after multiple people were shot in Montana, with the suspect named as Michael.\\n3. **China Floods**: Deadly floods have devastated northern China, prompting significant concern and response efforts.\\n4. **Colombia's Ex-President**: Former Colombian President Alvaro Uribe has been sentenced to 12 years of house arrest.\\n5. **Trump's Actions**: Donald Trump has directed his team to fire a senior official over recent job numbers, amidst ongoing political developments.\\n\\nFor more detailed updates, you can check sources like [BBC](https://www.bbc.com/news/world), [CNN](https://www.cnn.com/), or [Reuters](https://www.reuters.com/world/).\",\"tools_used\":[\"functions.serpapi\"]}"
     ]
    }
   ],
   "source": [
    "get_stream(\"tell me about the latest news in the world\")"
   ]
  },
  {
   "cell_type": "code",
   "execution_count": 4,
   "metadata": {},
   "outputs": [
    {
     "name": "stdout",
     "output_type": "stream",
     "text": [
      "<step><step_name>serpapi</step_name>{\"query\": \"current temperature in Oslo\"}<step><step_name>multiply</step_name>{\"x\": 5, \"y\": 5}</step><step><step_name>final_answer</step_name>{\"answer\":\"The current temperature in Oslo is approximately 64°F (about 18°C). The result of 5 multiplied by 5 is 25. Therefore, when you multiply the temperature (in Fahrenheit) by 5, you get 1600. However, if you were looking for the multiplication of the two numbers directly, it is 25.\",\"tools_used\":[\"functions.serpapi\",\"functions.multiply\",\"functions.final_answer\"]}"
     ]
    }
   ],
   "source": [
    "get_stream(\n",
    "    \"how cold is it in oslo right now, what is 5*5, and what \"\n",
    "    \"do you get when multiplying those two numbers together?\"\n",
    ")"
   ]
  },
  {
   "cell_type": "code",
   "execution_count": 5,
   "metadata": {},
   "outputs": [
    {
     "name": "stdout",
     "output_type": "stream",
     "text": [
      "<step><step_name>serpapi</step_name>{\"query\": \"current date and time in Dubai\"}<step><step_name>serpapi</step_name>{\"query\": \"current date and time in Tokyo\"}<step><step_name>serpapi</step_name>{\"query\": \"current date and time in Berlin\"}</step><step><step_name>final_answer</step_name>{\"answer\": \"The current date and time in Dubai is 6:04 PM on August 1, 2025. In Tokyo, it is 3:04 AM on August 2, 2025. In Berlin, it is 12:04 PM on August 1, 2025.\", \"tools_used\": [\"serpapi\"]}"
     ]
    }
   ],
   "source": [
    "get_stream(\"what is the current date and time in these places: dubai, tokyo, berlin?\")"
   ]
  },
  {
   "cell_type": "markdown",
   "metadata": {},
   "source": [
    "---"
   ]
  }
 ],
 "metadata": {
  "kernelspec": {
   "display_name": "langchain-course (3.12.7)",
   "language": "python",
   "name": "python3"
  },
  "language_info": {
   "codemirror_mode": {
    "name": "ipython",
    "version": 3
   },
   "file_extension": ".py",
   "mimetype": "text/x-python",
   "name": "python",
   "nbconvert_exporter": "python",
   "pygments_lexer": "ipython3",
   "version": "3.12.7"
  }
 },
 "nbformat": 4,
 "nbformat_minor": 2
}
